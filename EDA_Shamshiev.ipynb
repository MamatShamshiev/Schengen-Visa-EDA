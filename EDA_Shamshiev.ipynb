{
 "cells": [
  {
   "cell_type": "code",
   "execution_count": 1,
   "metadata": {},
   "outputs": [],
   "source": [
    "import pandas as pd\n",
    "import numpy as np\n",
    "import os\n",
    "import matplotlib.pyplot as plt\n",
    "import matplotlib.pylab as pylab\n",
    "\n",
    "%matplotlib inline"
   ]
  },
  {
   "cell_type": "code",
   "execution_count": 2,
   "metadata": {},
   "outputs": [],
   "source": [
    "DATA_PATH = './data'\n",
    "DF_NAME_2017 = '2017-data-for-consulates.csv'\n",
    "DF_NAME_2018 = '2018-data-for-consulates.csv'\n",
    "PATH_TO_SAVE = './Pictures/'"
   ]
  },
  {
   "cell_type": "code",
   "execution_count": 3,
   "metadata": {},
   "outputs": [],
   "source": [
    "params = {'axes.titlesize':'x-large'}\n",
    "pylab.rcParams.update(params)"
   ]
  },
  {
   "cell_type": "code",
   "execution_count": 4,
   "metadata": {},
   "outputs": [],
   "source": [
    "df_2018 = pd.read_csv(os.path.join(DATA_PATH, DF_NAME_2018))\n",
    "df_2018['year'] = 2018"
   ]
  },
  {
   "cell_type": "code",
   "execution_count": 5,
   "metadata": {},
   "outputs": [],
   "source": [
    "df_2017 = pd.read_csv(os.path.join(DATA_PATH, DF_NAME_2017))\n",
    "df_2017['year'] = 2017"
   ]
  },
  {
   "cell_type": "code",
   "execution_count": 6,
   "metadata": {},
   "outputs": [],
   "source": [
    "df = df_2018.append(df_2017, ignore_index=True)"
   ]
  },
  {
   "cell_type": "code",
   "execution_count": 7,
   "metadata": {},
   "outputs": [],
   "source": [
    "df = df.drop([col for col in df.columns if 'ATVs' in col], axis=1) # This type of visa we are not intrested in"
   ]
  },
  {
   "cell_type": "code",
   "execution_count": 8,
   "metadata": {},
   "outputs": [],
   "source": [
    "rename_dict = {'Schengen State': 'schengen_state',\n",
    "               'Country where consulate is located': 'consulate_country',\n",
    "               'Consulate': 'consulate_city',\n",
    "               'Uniform visas applied for': 'num_applications',\n",
    "               'Total  uniform visas issued (including MEV) \\n': 'uniform_visas_issued',\n",
    "               'Multiple entry uniform visas (MEVs) issued': 'MEVs_issued',\n",
    "               'Share of MEVs on total number of uniform visas issued': 'MEVs_share',\n",
    "               'Total LTVs issued': 'LTVs_issued',\n",
    "               'Uniform visas not issued': 'uniform_rejected',\n",
    "               'Not issued rate for uniform visas': 'rejection_rate'}"
   ]
  },
  {
   "cell_type": "code",
   "execution_count": 9,
   "metadata": {},
   "outputs": [],
   "source": [
    "df.rename(columns=rename_dict, inplace=True)"
   ]
  },
  {
   "cell_type": "code",
   "execution_count": 10,
   "metadata": {},
   "outputs": [
    {
     "data": {
      "text/html": [
       "<div>\n",
       "<style scoped>\n",
       "    .dataframe tbody tr th:only-of-type {\n",
       "        vertical-align: middle;\n",
       "    }\n",
       "\n",
       "    .dataframe tbody tr th {\n",
       "        vertical-align: top;\n",
       "    }\n",
       "\n",
       "    .dataframe thead th {\n",
       "        text-align: right;\n",
       "    }\n",
       "</style>\n",
       "<table border=\"1\" class=\"dataframe\">\n",
       "  <thead>\n",
       "    <tr style=\"text-align: right;\">\n",
       "      <th></th>\n",
       "      <th>schengen_state</th>\n",
       "      <th>consulate_country</th>\n",
       "      <th>consulate_city</th>\n",
       "      <th>num_applications</th>\n",
       "      <th>uniform_visas_issued</th>\n",
       "      <th>MEVs_issued</th>\n",
       "      <th>MEVs_share</th>\n",
       "      <th>LTVs_issued</th>\n",
       "      <th>uniform_rejected</th>\n",
       "      <th>rejection_rate</th>\n",
       "      <th>year</th>\n",
       "    </tr>\n",
       "  </thead>\n",
       "  <tbody>\n",
       "    <tr>\n",
       "      <th>0</th>\n",
       "      <td>Austria</td>\n",
       "      <td>ALBANIA</td>\n",
       "      <td>TIRANA</td>\n",
       "      <td>62</td>\n",
       "      <td>32</td>\n",
       "      <td>10</td>\n",
       "      <td>31.3%</td>\n",
       "      <td>21</td>\n",
       "      <td>9</td>\n",
       "      <td>14.5%</td>\n",
       "      <td>2018</td>\n",
       "    </tr>\n",
       "    <tr>\n",
       "      <th>1</th>\n",
       "      <td>Austria</td>\n",
       "      <td>ALGERIA</td>\n",
       "      <td>ALGIERS</td>\n",
       "      <td>2481</td>\n",
       "      <td>1658</td>\n",
       "      <td>1461</td>\n",
       "      <td>88.1%</td>\n",
       "      <td>1</td>\n",
       "      <td>822</td>\n",
       "      <td>33.1%</td>\n",
       "      <td>2018</td>\n",
       "    </tr>\n",
       "    <tr>\n",
       "      <th>2</th>\n",
       "      <td>Austria</td>\n",
       "      <td>ARGENTINA</td>\n",
       "      <td>BUENOS AIRES</td>\n",
       "      <td>16</td>\n",
       "      <td>16</td>\n",
       "      <td>16</td>\n",
       "      <td>100.0%</td>\n",
       "      <td>NaN</td>\n",
       "      <td>NaN</td>\n",
       "      <td>NaN</td>\n",
       "      <td>2018</td>\n",
       "    </tr>\n",
       "    <tr>\n",
       "      <th>3</th>\n",
       "      <td>Austria</td>\n",
       "      <td>AUSTRALIA</td>\n",
       "      <td>CANBERRA</td>\n",
       "      <td>2776</td>\n",
       "      <td>2653</td>\n",
       "      <td>989</td>\n",
       "      <td>37.3%</td>\n",
       "      <td>1</td>\n",
       "      <td>122</td>\n",
       "      <td>4.4%</td>\n",
       "      <td>2018</td>\n",
       "    </tr>\n",
       "    <tr>\n",
       "      <th>4</th>\n",
       "      <td>Austria</td>\n",
       "      <td>AZERBAIJAN</td>\n",
       "      <td>BAKU</td>\n",
       "      <td>1976</td>\n",
       "      <td>1895</td>\n",
       "      <td>1769</td>\n",
       "      <td>93.4%</td>\n",
       "      <td>2</td>\n",
       "      <td>79</td>\n",
       "      <td>4.0%</td>\n",
       "      <td>2018</td>\n",
       "    </tr>\n",
       "    <tr>\n",
       "      <th>5</th>\n",
       "      <td>Austria</td>\n",
       "      <td>BOSNIA AND HERZEGOVINA</td>\n",
       "      <td>SARAJEVO</td>\n",
       "      <td>616</td>\n",
       "      <td>615</td>\n",
       "      <td>615</td>\n",
       "      <td>100.0%</td>\n",
       "      <td>NaN</td>\n",
       "      <td>1</td>\n",
       "      <td>0.2%</td>\n",
       "      <td>2018</td>\n",
       "    </tr>\n",
       "    <tr>\n",
       "      <th>6</th>\n",
       "      <td>Austria</td>\n",
       "      <td>BRAZIL</td>\n",
       "      <td>BRASILIA</td>\n",
       "      <td>37</td>\n",
       "      <td>37</td>\n",
       "      <td>36</td>\n",
       "      <td>97.3%</td>\n",
       "      <td>NaN</td>\n",
       "      <td>NaN</td>\n",
       "      <td>NaN</td>\n",
       "      <td>2018</td>\n",
       "    </tr>\n",
       "    <tr>\n",
       "      <th>7</th>\n",
       "      <td>Austria</td>\n",
       "      <td>BULGARIA</td>\n",
       "      <td>SOFIA</td>\n",
       "      <td>217</td>\n",
       "      <td>199</td>\n",
       "      <td>162</td>\n",
       "      <td>81.4%</td>\n",
       "      <td>13</td>\n",
       "      <td>5</td>\n",
       "      <td>2.3%</td>\n",
       "      <td>2018</td>\n",
       "    </tr>\n",
       "    <tr>\n",
       "      <th>8</th>\n",
       "      <td>Austria</td>\n",
       "      <td>CANADA</td>\n",
       "      <td>OTTAWA</td>\n",
       "      <td>686</td>\n",
       "      <td>659</td>\n",
       "      <td>107</td>\n",
       "      <td>16.2%</td>\n",
       "      <td>1</td>\n",
       "      <td>26</td>\n",
       "      <td>3.8%</td>\n",
       "      <td>2018</td>\n",
       "    </tr>\n",
       "    <tr>\n",
       "      <th>9</th>\n",
       "      <td>Austria</td>\n",
       "      <td>CHILE</td>\n",
       "      <td>SANTIAGO DE CHILE</td>\n",
       "      <td>22</td>\n",
       "      <td>22</td>\n",
       "      <td>17</td>\n",
       "      <td>77.3%</td>\n",
       "      <td>NaN</td>\n",
       "      <td>NaN</td>\n",
       "      <td>NaN</td>\n",
       "      <td>2018</td>\n",
       "    </tr>\n",
       "  </tbody>\n",
       "</table>\n",
       "</div>"
      ],
      "text/plain": [
       "  schengen_state       consulate_country     consulate_city num_applications  \\\n",
       "0        Austria                 ALBANIA             TIRANA               62   \n",
       "1        Austria                 ALGERIA            ALGIERS             2481   \n",
       "2        Austria               ARGENTINA       BUENOS AIRES               16   \n",
       "3        Austria               AUSTRALIA           CANBERRA             2776   \n",
       "4        Austria              AZERBAIJAN               BAKU             1976   \n",
       "5        Austria  BOSNIA AND HERZEGOVINA           SARAJEVO              616   \n",
       "6        Austria                  BRAZIL           BRASILIA               37   \n",
       "7        Austria                BULGARIA              SOFIA              217   \n",
       "8        Austria                  CANADA             OTTAWA              686   \n",
       "9        Austria                   CHILE  SANTIAGO DE CHILE               22   \n",
       "\n",
       "  uniform_visas_issued MEVs_issued MEVs_share LTVs_issued uniform_rejected  \\\n",
       "0                   32          10      31.3%          21                9   \n",
       "1                 1658        1461      88.1%           1              822   \n",
       "2                   16          16     100.0%         NaN              NaN   \n",
       "3                 2653         989      37.3%           1              122   \n",
       "4                 1895        1769      93.4%           2               79   \n",
       "5                  615         615     100.0%         NaN                1   \n",
       "6                   37          36      97.3%         NaN              NaN   \n",
       "7                  199         162      81.4%          13                5   \n",
       "8                  659         107      16.2%           1               26   \n",
       "9                   22          17      77.3%         NaN              NaN   \n",
       "\n",
       "  rejection_rate  year  \n",
       "0          14.5%  2018  \n",
       "1          33.1%  2018  \n",
       "2            NaN  2018  \n",
       "3           4.4%  2018  \n",
       "4           4.0%  2018  \n",
       "5           0.2%  2018  \n",
       "6            NaN  2018  \n",
       "7           2.3%  2018  \n",
       "8           3.8%  2018  \n",
       "9            NaN  2018  "
      ]
     },
     "execution_count": 10,
     "metadata": {},
     "output_type": "execute_result"
    }
   ],
   "source": [
    "df.head(10)"
   ]
  },
  {
   "cell_type": "code",
   "execution_count": 11,
   "metadata": {},
   "outputs": [
    {
     "data": {
      "text/plain": [
       "(3797, 11)"
      ]
     },
     "execution_count": 11,
     "metadata": {},
     "output_type": "execute_result"
    }
   ],
   "source": [
    "df.shape"
   ]
  },
  {
   "cell_type": "code",
   "execution_count": 12,
   "metadata": {},
   "outputs": [
    {
     "data": {
      "text/plain": [
       "schengen_state            26\n",
       "consulate_country         26\n",
       "consulate_city            20\n",
       "num_applications          25\n",
       "uniform_visas_issued     100\n",
       "MEVs_issued              295\n",
       "MEVs_share               299\n",
       "LTVs_issued             1699\n",
       "uniform_rejected         749\n",
       "rejection_rate           752\n",
       "year                       0\n",
       "dtype: int64"
      ]
     },
     "execution_count": 12,
     "metadata": {},
     "output_type": "execute_result"
    }
   ],
   "source": [
    "df.isnull().sum()"
   ]
  },
  {
   "cell_type": "code",
   "execution_count": 13,
   "metadata": {},
   "outputs": [],
   "source": [
    "df = df.dropna(axis=0, subset=['schengen_state', 'num_applications']).reset_index(drop=True) # Not interested in data where we don't know 'schengen_state' or 'num_applications'"
   ]
  },
  {
   "cell_type": "code",
   "execution_count": 14,
   "metadata": {},
   "outputs": [
    {
     "data": {
      "text/plain": [
       "schengen_state             0\n",
       "consulate_country          0\n",
       "consulate_city             0\n",
       "num_applications           0\n",
       "uniform_visas_issued      78\n",
       "MEVs_issued              270\n",
       "MEVs_share               272\n",
       "LTVs_issued             1676\n",
       "uniform_rejected         725\n",
       "rejection_rate           725\n",
       "year                       0\n",
       "dtype: int64"
      ]
     },
     "execution_count": 14,
     "metadata": {},
     "output_type": "execute_result"
    }
   ],
   "source": [
    "df.isnull().sum()"
   ]
  },
  {
   "cell_type": "markdown",
   "metadata": {},
   "source": [
    "В данных есть следующая проблема: некоторые числа записаны как \"2,123\": "
   ]
  },
  {
   "cell_type": "code",
   "execution_count": 15,
   "metadata": {},
   "outputs": [
    {
     "data": {
      "text/html": [
       "<div>\n",
       "<style scoped>\n",
       "    .dataframe tbody tr th:only-of-type {\n",
       "        vertical-align: middle;\n",
       "    }\n",
       "\n",
       "    .dataframe tbody tr th {\n",
       "        vertical-align: top;\n",
       "    }\n",
       "\n",
       "    .dataframe thead th {\n",
       "        text-align: right;\n",
       "    }\n",
       "</style>\n",
       "<table border=\"1\" class=\"dataframe\">\n",
       "  <thead>\n",
       "    <tr style=\"text-align: right;\">\n",
       "      <th></th>\n",
       "      <th>schengen_state</th>\n",
       "      <th>consulate_country</th>\n",
       "      <th>consulate_city</th>\n",
       "      <th>num_applications</th>\n",
       "      <th>uniform_visas_issued</th>\n",
       "      <th>MEVs_issued</th>\n",
       "      <th>MEVs_share</th>\n",
       "      <th>LTVs_issued</th>\n",
       "      <th>uniform_rejected</th>\n",
       "      <th>rejection_rate</th>\n",
       "      <th>year</th>\n",
       "    </tr>\n",
       "  </thead>\n",
       "  <tbody>\n",
       "    <tr>\n",
       "      <th>3761</th>\n",
       "      <td>Switzerland</td>\n",
       "      <td>USA</td>\n",
       "      <td>ATLANTA, GA</td>\n",
       "      <td>1,405</td>\n",
       "      <td>1,394</td>\n",
       "      <td>1,380</td>\n",
       "      <td>99.0%</td>\n",
       "      <td>4</td>\n",
       "      <td>7</td>\n",
       "      <td>0.5%</td>\n",
       "      <td>2017</td>\n",
       "    </tr>\n",
       "    <tr>\n",
       "      <th>3762</th>\n",
       "      <td>Switzerland</td>\n",
       "      <td>USA</td>\n",
       "      <td>NEW YORK, NY</td>\n",
       "      <td>3,187</td>\n",
       "      <td>3,116</td>\n",
       "      <td>3,109</td>\n",
       "      <td>99.8%</td>\n",
       "      <td>62</td>\n",
       "      <td>9</td>\n",
       "      <td>0.3%</td>\n",
       "      <td>2017</td>\n",
       "    </tr>\n",
       "    <tr>\n",
       "      <th>3763</th>\n",
       "      <td>Switzerland</td>\n",
       "      <td>USA</td>\n",
       "      <td>SAN FRANCISCO, CA</td>\n",
       "      <td>2,675</td>\n",
       "      <td>2,662</td>\n",
       "      <td>2,624</td>\n",
       "      <td>98.6%</td>\n",
       "      <td>6</td>\n",
       "      <td>7</td>\n",
       "      <td>0.3%</td>\n",
       "      <td>2017</td>\n",
       "    </tr>\n",
       "    <tr>\n",
       "      <th>3764</th>\n",
       "      <td>Switzerland</td>\n",
       "      <td>USA</td>\n",
       "      <td>WASHINGTON, DC</td>\n",
       "      <td>1,049</td>\n",
       "      <td>993</td>\n",
       "      <td>571</td>\n",
       "      <td>57.5%</td>\n",
       "      <td>29</td>\n",
       "      <td>27</td>\n",
       "      <td>2.6%</td>\n",
       "      <td>2017</td>\n",
       "    </tr>\n",
       "    <tr>\n",
       "      <th>3765</th>\n",
       "      <td>Switzerland</td>\n",
       "      <td>VIETNAM</td>\n",
       "      <td>HO CHI MINH</td>\n",
       "      <td>3,643</td>\n",
       "      <td>3,355</td>\n",
       "      <td>408</td>\n",
       "      <td>12.2%</td>\n",
       "      <td>10</td>\n",
       "      <td>278</td>\n",
       "      <td>7.6%</td>\n",
       "      <td>2017</td>\n",
       "    </tr>\n",
       "  </tbody>\n",
       "</table>\n",
       "</div>"
      ],
      "text/plain": [
       "     schengen_state consulate_country     consulate_city num_applications  \\\n",
       "3761    Switzerland               USA        ATLANTA, GA            1,405   \n",
       "3762    Switzerland               USA       NEW YORK, NY            3,187   \n",
       "3763    Switzerland               USA  SAN FRANCISCO, CA            2,675   \n",
       "3764    Switzerland               USA     WASHINGTON, DC            1,049   \n",
       "3765    Switzerland           VIETNAM        HO CHI MINH            3,643   \n",
       "\n",
       "     uniform_visas_issued MEVs_issued MEVs_share LTVs_issued uniform_rejected  \\\n",
       "3761                1,394       1,380      99.0%           4                7   \n",
       "3762                3,116       3,109      99.8%          62                9   \n",
       "3763                2,662       2,624      98.6%           6                7   \n",
       "3764                  993         571      57.5%          29               27   \n",
       "3765                3,355         408      12.2%          10              278   \n",
       "\n",
       "     rejection_rate  year  \n",
       "3761           0.5%  2017  \n",
       "3762           0.3%  2017  \n",
       "3763           0.3%  2017  \n",
       "3764           2.6%  2017  \n",
       "3765           7.6%  2017  "
      ]
     },
     "execution_count": 15,
     "metadata": {},
     "output_type": "execute_result"
    }
   ],
   "source": [
    "df.tail()"
   ]
  },
  {
   "cell_type": "markdown",
   "metadata": {},
   "source": [
    "Следующая функция переводит такие строки в числа:"
   ]
  },
  {
   "cell_type": "code",
   "execution_count": 16,
   "metadata": {},
   "outputs": [],
   "source": [
    "def str_to_int(df, columns):\n",
    "    for col in columns:\n",
    "        df.loc[~df[col].isnull(), col] = pd.Series(list(map(lambda x: int(x.replace(',','').replace('%', '').strip()), df[col][~df[col].isnull()].astype(str)))).values"
   ]
  },
  {
   "cell_type": "code",
   "execution_count": 17,
   "metadata": {},
   "outputs": [],
   "source": [
    "str_to_int(df, columns=['num_applications', 'uniform_visas_issued', 'MEVs_issued','LTVs_issued', 'uniform_rejected'])"
   ]
  },
  {
   "cell_type": "code",
   "execution_count": 18,
   "metadata": {},
   "outputs": [
    {
     "data": {
      "text/plain": [
       "schengen_state             0\n",
       "consulate_country          0\n",
       "consulate_city             0\n",
       "num_applications           0\n",
       "uniform_visas_issued      78\n",
       "MEVs_issued              270\n",
       "MEVs_share               272\n",
       "LTVs_issued             1676\n",
       "uniform_rejected         725\n",
       "rejection_rate           725\n",
       "year                       0\n",
       "dtype: int64"
      ]
     },
     "execution_count": 18,
     "metadata": {},
     "output_type": "execute_result"
    }
   ],
   "source": [
    "df.isnull().sum()"
   ]
  },
  {
   "cell_type": "markdown",
   "metadata": {},
   "source": [
    "### Количество заявок на получение визы по странам"
   ]
  },
  {
   "cell_type": "code",
   "execution_count": 19,
   "metadata": {},
   "outputs": [],
   "source": [
    "threshold = 500000"
   ]
  },
  {
   "cell_type": "code",
   "execution_count": 20,
   "metadata": {
    "scrolled": true
   },
   "outputs": [],
   "source": [
    "df_groupby_state_apps_2017 = df.groupby(['year', 'schengen_state']).sum().loc[2017]\n",
    "df_groupby_state_apps_2017.loc['Other', 'num_applications'] = df_groupby_state_apps_2017.num_applications[(df_groupby_state_apps_2017.num_applications < threshold)].sum()\n",
    "df_groupby_state_apps_2017 = df_groupby_state_apps_2017.sort_values(by='num_applications')\n",
    "\n",
    "df_groupby_state_apps_2018 = df.groupby(['year', 'schengen_state']).sum().loc[2018]\n",
    "df_groupby_state_apps_2018.loc['Other', 'num_applications'] = df_groupby_state_apps_2018.num_applications[(df_groupby_state_apps_2017.num_applications < threshold)].sum()\n",
    "df_groupby_state_apps_2018 = df_groupby_state_apps_2018.sort_values(by='num_applications')"
   ]
  },
  {
   "cell_type": "code",
   "execution_count": 21,
   "metadata": {
    "scrolled": true
   },
   "outputs": [
    {
     "data": {
      "image/png": "[encoded data removed]",
      "text/plain": [
       "<Figure size 720x576 with 1 Axes>"
      ]
     },
     "metadata": {
      "needs_background": "light"
     },
     "output_type": "display_data"
    }
   ],
   "source": [
    "plt.figure(figsize=(10,8))\n",
    "plt.barh(df_groupby_state_apps_2018[df_groupby_state_apps_2018.num_applications > threshold].index, df_groupby_state_apps_2018[df_groupby_state_apps_2018.num_applications > threshold].num_applications, height=0.5, color='darkblue', label='2018')\n",
    "plt.barh(df_groupby_state_apps_2017[df_groupby_state_apps_2017.num_applications > threshold].index, df_groupby_state_apps_2017[df_groupby_state_apps_2017.num_applications > threshold].num_applications, height=0.25, color='lightcoral', label='2017')\n",
    "plt.xlabel('Количество заявок на получение визы по странам', fontsize=20)\n",
    "plt.legend()\n",
    "plt.axis('tight')\n",
    "plt.xticks(rotation=0, fontsize=12)\n",
    "plt.yticks(rotation=0, fontsize=15)\n",
    "plt.gca().xaxis.grid(True)\n",
    "plt.tight_layout()\n",
    "plt.legend(loc=4, prop={'size': 20})\n",
    "#plt.savefig(os.path.join(PATH_TO_SAVE, 'amount_per_country.png'), quality=100, format='png', dpi=500)\n",
    "plt.show()"
   ]
  },
  {
   "cell_type": "markdown",
   "metadata": {},
   "source": [
    "#### А в России?"
   ]
  },
  {
   "cell_type": "code",
   "execution_count": 22,
   "metadata": {},
   "outputs": [],
   "source": [
    "df_russia = df[df.consulate_country == 'RUSSIAN FEDERATION']\n",
    "threshold = 100000"
   ]
  },
  {
   "cell_type": "code",
   "execution_count": 23,
   "metadata": {},
   "outputs": [],
   "source": [
    "df_russia_groupby_state_apps_2017 = df_russia.groupby(['year', 'schengen_state']).sum().loc[2017]\n",
    "df_russia_groupby_state_apps_2017.loc['Other', 'num_applications'] = df_russia_groupby_state_apps_2017.num_applications[(df_russia_groupby_state_apps_2017.num_applications < threshold)].sum()\n",
    "df_russia_groupby_state_apps_2017 = df_russia_groupby_state_apps_2017.sort_values(by='num_applications')\n",
    "\n",
    "df_russia_groupby_state_apps_2018 = df_russia.groupby(['year', 'schengen_state']).sum().loc[2018]\n",
    "df_russia_groupby_state_apps_2018.loc['Other', 'num_applications'] = df_russia_groupby_state_apps_2018.num_applications[(df_russia_groupby_state_apps_2017.num_applications < threshold)].sum()\n",
    "df_russia_groupby_state_apps_2018 = df_russia_groupby_state_apps_2018.sort_values(by='num_applications')"
   ]
  },
  {
   "cell_type": "code",
   "execution_count": 24,
   "metadata": {
    "scrolled": true
   },
   "outputs": [
    {
     "data": {
      "image/png": "[encoded data removed]",
      "text/plain": [
       "<Figure size 720x576 with 1 Axes>"
      ]
     },
     "metadata": {
      "needs_background": "light"
     },
     "output_type": "display_data"
    }
   ],
   "source": [
    "plt.figure(figsize=(10,8))\n",
    "plt.barh(df_russia_groupby_state_apps_2018[df_russia_groupby_state_apps_2018.num_applications > threshold].index, df_russia_groupby_state_apps_2018[df_russia_groupby_state_apps_2018.num_applications > threshold].num_applications, height=0.5, color='darkblue', label='2018')\n",
    "plt.barh(df_russia_groupby_state_apps_2017[df_russia_groupby_state_apps_2017.num_applications > threshold].index, df_russia_groupby_state_apps_2017[df_russia_groupby_state_apps_2017.num_applications > threshold].num_applications, height=0.25, color='lightcoral', label='2017')\n",
    "plt.xlabel('Количество заявок россиян на получение визы', fontsize=20)\n",
    "plt.legend()\n",
    "plt.axis('tight')\n",
    "plt.xticks(rotation=0, fontsize=12)\n",
    "plt.yticks(rotation=0, fontsize=15)\n",
    "plt.gca().xaxis.grid(True)\n",
    "plt.tight_layout()\n",
    "plt.legend(loc=4, prop={'size': 20})\n",
    "#plt.savefig(os.path.join(PATH_TO_SAVE, 'amount_per_country_russia.png'), quality=100, format='png', dpi=500)\n",
    "plt.show()"
   ]
  },
  {
   "cell_type": "markdown",
   "metadata": {},
   "source": [
    "#### Питер и все остальные города по заявкам в Финляндию"
   ]
  },
  {
   "cell_type": "code",
   "execution_count": 25,
   "metadata": {},
   "outputs": [],
   "source": [
    "df_russia_groupby_city_fin = df_russia.groupby(['schengen_state', 'year', 'consulate_city']).sum().loc['Finland']"
   ]
  },
  {
   "cell_type": "code",
   "execution_count": 26,
   "metadata": {},
   "outputs": [
    {
     "data": {
      "text/html": [
       "<div>\n",
       "<style scoped>\n",
       "    .dataframe tbody tr th:only-of-type {\n",
       "        vertical-align: middle;\n",
       "    }\n",
       "\n",
       "    .dataframe tbody tr th {\n",
       "        vertical-align: top;\n",
       "    }\n",
       "\n",
       "    .dataframe thead th {\n",
       "        text-align: right;\n",
       "    }\n",
       "</style>\n",
       "<table border=\"1\" class=\"dataframe\">\n",
       "  <thead>\n",
       "    <tr style=\"text-align: right;\">\n",
       "      <th></th>\n",
       "      <th></th>\n",
       "      <th>num_applications</th>\n",
       "    </tr>\n",
       "    <tr>\n",
       "      <th>year</th>\n",
       "      <th>consulate_city</th>\n",
       "      <th></th>\n",
       "    </tr>\n",
       "  </thead>\n",
       "  <tbody>\n",
       "    <tr>\n",
       "      <th rowspan=\"4\" valign=\"top\">2017</th>\n",
       "      <th>MOSCOW</th>\n",
       "      <td>70718</td>\n",
       "    </tr>\n",
       "    <tr>\n",
       "      <th>MURMANSK</th>\n",
       "      <td>27636</td>\n",
       "    </tr>\n",
       "    <tr>\n",
       "      <th>PETROZAVODSK</th>\n",
       "      <td>41058</td>\n",
       "    </tr>\n",
       "    <tr>\n",
       "      <th>ST. PETERSBURG</th>\n",
       "      <td>591581</td>\n",
       "    </tr>\n",
       "    <tr>\n",
       "      <th rowspan=\"4\" valign=\"top\">2018</th>\n",
       "      <th>MOSCOW</th>\n",
       "      <td>72955</td>\n",
       "    </tr>\n",
       "    <tr>\n",
       "      <th>MURMANSK</th>\n",
       "      <td>22590</td>\n",
       "    </tr>\n",
       "    <tr>\n",
       "      <th>PETROZAVODSK</th>\n",
       "      <td>32413</td>\n",
       "    </tr>\n",
       "    <tr>\n",
       "      <th>ST. PETERSBURG</th>\n",
       "      <td>541080</td>\n",
       "    </tr>\n",
       "  </tbody>\n",
       "</table>\n",
       "</div>"
      ],
      "text/plain": [
       "                     num_applications\n",
       "year consulate_city                  \n",
       "2017 MOSCOW                     70718\n",
       "     MURMANSK                   27636\n",
       "     PETROZAVODSK               41058\n",
       "     ST. PETERSBURG            591581\n",
       "2018 MOSCOW                     72955\n",
       "     MURMANSK                   22590\n",
       "     PETROZAVODSK               32413\n",
       "     ST. PETERSBURG            541080"
      ]
     },
     "execution_count": 26,
     "metadata": {},
     "output_type": "execute_result"
    }
   ],
   "source": [
    "df_russia_groupby_city_fin"
   ]
  },
  {
   "cell_type": "code",
   "execution_count": 27,
   "metadata": {
    "scrolled": true
   },
   "outputs": [
    {
     "data": {
      "image/png": "[encoded data removed]",
      "text/plain": [
       "<Figure size 720x720 with 1 Axes>"
      ]
     },
     "metadata": {
      "needs_background": "light"
     },
     "output_type": "display_data"
    }
   ],
   "source": [
    "plt.figure(figsize=(10,10))\n",
    "plt.gca().yaxis.grid(True)\n",
    "plt.bar(['ST. PETERSBURG', 'OTHER RUSSIAN CITIES'], [df_russia_groupby_city_fin.loc[2018].num_applications['ST. PETERSBURG'], df_russia_groupby_city_fin.loc[2018].num_applications[df_russia_groupby_city_fin.loc[2018].index[:3]].sum()], width=0.5, color='darkblue', label='2018')\n",
    "plt.bar(['ST. PETERSBURG', 'OTHER RUSSIAN CITIES'], [df_russia_groupby_city_fin.loc[2017].num_applications['ST. PETERSBURG'], df_russia_groupby_city_fin.loc[2017].num_applications[df_russia_groupby_city_fin.loc[2017].index[:3]].sum()], width=0.3, color='lightcoral', label='2017')\n",
    "plt.title('Количество заявок на визу в Финляндию за 2017-2018 года')\n",
    "plt.xticks(rotation=0, fontsize=15)\n",
    "plt.yticks(rotation=0, fontsize=15)\n",
    "plt.legend(loc=1, prop={'size': 20})\n",
    "#plt.savefig(os.path.join(PATH_TO_SAVE, 'spb_vs_all.png'), quality=100, format='png', dpi=500)\n",
    "plt.show()"
   ]
  },
  {
   "cell_type": "markdown",
   "metadata": {},
   "source": [
    "## Что можно делать с большим количеством пропусков?"
   ]
  },
  {
   "cell_type": "markdown",
   "metadata": {},
   "source": [
    "Проверим гипотезу о равенстве num_applications = uniform_visas_issued + LTVs_issued + uniform_rejected на данных без пропусков:"
   ]
  },
  {
   "cell_type": "code",
   "execution_count": 28,
   "metadata": {
    "scrolled": false
   },
   "outputs": [
    {
     "data": {
      "text/html": [
       "<div>\n",
       "<style scoped>\n",
       "    .dataframe tbody tr th:only-of-type {\n",
       "        vertical-align: middle;\n",
       "    }\n",
       "\n",
       "    .dataframe tbody tr th {\n",
       "        vertical-align: top;\n",
       "    }\n",
       "\n",
       "    .dataframe thead th {\n",
       "        text-align: right;\n",
       "    }\n",
       "</style>\n",
       "<table border=\"1\" class=\"dataframe\">\n",
       "  <thead>\n",
       "    <tr style=\"text-align: right;\">\n",
       "      <th></th>\n",
       "      <th>schengen_state</th>\n",
       "      <th>consulate_country</th>\n",
       "      <th>consulate_city</th>\n",
       "      <th>num_applications</th>\n",
       "      <th>uniform_visas_issued</th>\n",
       "      <th>MEVs_issued</th>\n",
       "      <th>MEVs_share</th>\n",
       "      <th>LTVs_issued</th>\n",
       "      <th>uniform_rejected</th>\n",
       "      <th>rejection_rate</th>\n",
       "      <th>year</th>\n",
       "    </tr>\n",
       "  </thead>\n",
       "  <tbody>\n",
       "    <tr>\n",
       "      <th>0</th>\n",
       "      <td>Austria</td>\n",
       "      <td>ALBANIA</td>\n",
       "      <td>TIRANA</td>\n",
       "      <td>62</td>\n",
       "      <td>32</td>\n",
       "      <td>10</td>\n",
       "      <td>31.3%</td>\n",
       "      <td>21</td>\n",
       "      <td>9</td>\n",
       "      <td>14.5%</td>\n",
       "      <td>2018</td>\n",
       "    </tr>\n",
       "    <tr>\n",
       "      <th>1</th>\n",
       "      <td>Austria</td>\n",
       "      <td>ALGERIA</td>\n",
       "      <td>ALGIERS</td>\n",
       "      <td>2481</td>\n",
       "      <td>1658</td>\n",
       "      <td>1461</td>\n",
       "      <td>88.1%</td>\n",
       "      <td>1</td>\n",
       "      <td>822</td>\n",
       "      <td>33.1%</td>\n",
       "      <td>2018</td>\n",
       "    </tr>\n",
       "    <tr>\n",
       "      <th>2</th>\n",
       "      <td>Austria</td>\n",
       "      <td>AUSTRALIA</td>\n",
       "      <td>CANBERRA</td>\n",
       "      <td>2776</td>\n",
       "      <td>2653</td>\n",
       "      <td>989</td>\n",
       "      <td>37.3%</td>\n",
       "      <td>1</td>\n",
       "      <td>122</td>\n",
       "      <td>4.4%</td>\n",
       "      <td>2018</td>\n",
       "    </tr>\n",
       "    <tr>\n",
       "      <th>3</th>\n",
       "      <td>Austria</td>\n",
       "      <td>AZERBAIJAN</td>\n",
       "      <td>BAKU</td>\n",
       "      <td>1976</td>\n",
       "      <td>1895</td>\n",
       "      <td>1769</td>\n",
       "      <td>93.4%</td>\n",
       "      <td>2</td>\n",
       "      <td>79</td>\n",
       "      <td>4.0%</td>\n",
       "      <td>2018</td>\n",
       "    </tr>\n",
       "    <tr>\n",
       "      <th>4</th>\n",
       "      <td>Austria</td>\n",
       "      <td>BULGARIA</td>\n",
       "      <td>SOFIA</td>\n",
       "      <td>217</td>\n",
       "      <td>199</td>\n",
       "      <td>162</td>\n",
       "      <td>81.4%</td>\n",
       "      <td>13</td>\n",
       "      <td>5</td>\n",
       "      <td>2.3%</td>\n",
       "      <td>2018</td>\n",
       "    </tr>\n",
       "  </tbody>\n",
       "</table>\n",
       "</div>"
      ],
      "text/plain": [
       "  schengen_state consulate_country consulate_city  num_applications  \\\n",
       "0        Austria           ALBANIA         TIRANA                62   \n",
       "1        Austria           ALGERIA        ALGIERS              2481   \n",
       "2        Austria         AUSTRALIA       CANBERRA              2776   \n",
       "3        Austria        AZERBAIJAN           BAKU              1976   \n",
       "4        Austria          BULGARIA          SOFIA               217   \n",
       "\n",
       "  uniform_visas_issued MEVs_issued MEVs_share LTVs_issued uniform_rejected  \\\n",
       "0                   32          10      31.3%          21                9   \n",
       "1                 1658        1461      88.1%           1              822   \n",
       "2                 2653         989      37.3%           1              122   \n",
       "3                 1895        1769      93.4%           2               79   \n",
       "4                  199         162      81.4%          13                5   \n",
       "\n",
       "  rejection_rate  year  \n",
       "0          14.5%  2018  \n",
       "1          33.1%  2018  \n",
       "2           4.4%  2018  \n",
       "3           4.0%  2018  \n",
       "4           2.3%  2018  "
      ]
     },
     "execution_count": 28,
     "metadata": {},
     "output_type": "execute_result"
    }
   ],
   "source": [
    "df_wo_nans = df.dropna(how='any').reset_index(drop=True)\n",
    "df_wo_nans.head()"
   ]
  },
  {
   "cell_type": "code",
   "execution_count": 29,
   "metadata": {},
   "outputs": [],
   "source": [
    "df_wo_nans['expected_num_applications'] = (df_wo_nans.uniform_visas_issued + df_wo_nans.LTVs_issued + df_wo_nans.uniform_rejected).astype(int)"
   ]
  },
  {
   "cell_type": "code",
   "execution_count": 30,
   "metadata": {},
   "outputs": [
    {
     "data": {
      "image/png": "[encoded data removed]",
      "text/plain": [
       "<Figure size 720x720 with 1 Axes>"
      ]
     },
     "metadata": {
      "needs_background": "light"
     },
     "output_type": "display_data"
    }
   ],
   "source": [
    "plt.figure(figsize=(10,10))\n",
    "plt.scatter(df_wo_nans['expected_num_applications'], df_wo_nans.num_applications)\n",
    "plt.ylabel('num_applications', fontsize=20)\n",
    "plt.xlabel('expected_num_applications', fontsize=20)\n",
    "plt.xticks(rotation=0, fontsize=15)\n",
    "plt.yticks(rotation=0, fontsize=15)\n",
    "plt.grid()\n",
    "#plt.savefig(os.path.join(PATH_TO_SAVE, 'real_vs_expected_1.png'), quality=100, format='png', dpi=500)"
   ]
  },
  {
   "cell_type": "code",
   "execution_count": 31,
   "metadata": {},
   "outputs": [
    {
     "data": {
      "image/png": "[encoded data removed]",
      "text/plain": [
       "<Figure size 720x720 with 1 Axes>"
      ]
     },
     "metadata": {
      "needs_background": "light"
     },
     "output_type": "display_data"
    }
   ],
   "source": [
    "plt.figure(figsize=(10,10))\n",
    "plt.scatter(np.log(df_wo_nans['expected_num_applications']), np.log(df_wo_nans.num_applications))\n",
    "plt.ylabel('log(num_applications)', fontsize=20)\n",
    "plt.xlabel('log(expected_num_applications)', fontsize=20)\n",
    "plt.xticks(rotation=0, fontsize=15)\n",
    "plt.yticks(rotation=0, fontsize=15)\n",
    "plt.grid()\n",
    "#plt.savefig(os.path.join(PATH_TO_SAVE, 'real_vs_expected_2.png'), quality=100, format='png', dpi=500)"
   ]
  },
  {
   "cell_type": "code",
   "execution_count": 32,
   "metadata": {},
   "outputs": [
    {
     "data": {
      "image/png": "[encoded data removed]",
      "text/plain": [
       "<Figure size 720x720 with 1 Axes>"
      ]
     },
     "metadata": {
      "needs_background": "light"
     },
     "output_type": "display_data"
    }
   ],
   "source": [
    "plt.figure(figsize=(10,10))\n",
    "plt.scatter(np.log(df_wo_nans['expected_num_applications']), np.log(df_wo_nans.num_applications) - np.log(df_wo_nans['expected_num_applications']))\n",
    "plt.xlabel('log(expected_num_applications)', fontsize=20)\n",
    "plt.ylabel('log(num_applications) - log(expected_num_applications)', fontsize=15)\n",
    "plt.xticks(rotation=0, fontsize=15)\n",
    "plt.yticks(rotation=0, fontsize=15)\n",
    "plt.grid()\n",
    "#plt.savefig(os.path.join(PATH_TO_SAVE, 'real_vs_expected_3.png'), quality=100, format='png', dpi=500)"
   ]
  },
  {
   "cell_type": "code",
   "execution_count": 33,
   "metadata": {
    "scrolled": true
   },
   "outputs": [],
   "source": [
    "df_wo_nans['applications_actual-expected'] = df_wo_nans.num_applications - df_wo_nans.expected_num_applications"
   ]
  },
  {
   "cell_type": "code",
   "execution_count": 34,
   "metadata": {
    "scrolled": false
   },
   "outputs": [
    {
     "data": {
      "text/plain": [
       "<matplotlib.axes._subplots.AxesSubplot at 0x7fb2a1a1bf28>"
      ]
     },
     "execution_count": 34,
     "metadata": {},
     "output_type": "execute_result"
    },
    {
     "data": {
      "image/png": "[encoded data removed]",
      "text/plain": [
       "<Figure size 1440x720 with 1 Axes>"
      ]
     },
     "metadata": {
      "needs_background": "light"
     },
     "output_type": "display_data"
    }
   ],
   "source": [
    "plt.figure(figsize=(20, 10))\n",
    "df_wo_nans['applications_actual-expected'].hist(bins=100)"
   ]
  },
  {
   "cell_type": "code",
   "execution_count": 35,
   "metadata": {},
   "outputs": [
    {
     "data": {
      "text/plain": [
       "count     1907.000000\n",
       "mean        74.264814\n",
       "std        453.010724\n",
       "min     -13240.000000\n",
       "25%          0.000000\n",
       "50%          0.000000\n",
       "75%         33.000000\n",
       "max       4462.000000\n",
       "Name: applications_actual-expected, dtype: float64"
      ]
     },
     "execution_count": 35,
     "metadata": {},
     "output_type": "execute_result"
    }
   ],
   "source": [
    "df_wo_nans['applications_actual-expected'].describe()"
   ]
  },
  {
   "cell_type": "code",
   "execution_count": 36,
   "metadata": {},
   "outputs": [],
   "source": [
    "needed_columns = [col for col in df_wo_nans.columns if col not in ['MEVs_issued', 'MEVs_share', 'year', 'consulate_city']]"
   ]
  },
  {
   "cell_type": "code",
   "execution_count": 37,
   "metadata": {},
   "outputs": [
    {
     "data": {
      "text/html": [
       "<div>\n",
       "<style scoped>\n",
       "    .dataframe tbody tr th:only-of-type {\n",
       "        vertical-align: middle;\n",
       "    }\n",
       "\n",
       "    .dataframe tbody tr th {\n",
       "        vertical-align: top;\n",
       "    }\n",
       "\n",
       "    .dataframe thead th {\n",
       "        text-align: right;\n",
       "    }\n",
       "</style>\n",
       "<table border=\"1\" class=\"dataframe\">\n",
       "  <thead>\n",
       "    <tr style=\"text-align: right;\">\n",
       "      <th></th>\n",
       "      <th>schengen_state</th>\n",
       "      <th>consulate_country</th>\n",
       "      <th>num_applications</th>\n",
       "      <th>uniform_visas_issued</th>\n",
       "      <th>LTVs_issued</th>\n",
       "      <th>uniform_rejected</th>\n",
       "      <th>rejection_rate</th>\n",
       "      <th>expected_num_applications</th>\n",
       "      <th>applications_actual-expected</th>\n",
       "    </tr>\n",
       "  </thead>\n",
       "  <tbody>\n",
       "    <tr>\n",
       "      <th>1141</th>\n",
       "      <td>France</td>\n",
       "      <td>ALGERIA</td>\n",
       "      <td>328475</td>\n",
       "      <td>213865</td>\n",
       "      <td>235</td>\n",
       "      <td>127615</td>\n",
       "      <td>38.9%</td>\n",
       "      <td>341715</td>\n",
       "      <td>-13240</td>\n",
       "    </tr>\n",
       "  </tbody>\n",
       "</table>\n",
       "</div>"
      ],
      "text/plain": [
       "     schengen_state consulate_country  num_applications uniform_visas_issued  \\\n",
       "1141         France           ALGERIA            328475               213865   \n",
       "\n",
       "     LTVs_issued uniform_rejected rejection_rate  expected_num_applications  \\\n",
       "1141         235           127615          38.9%                     341715   \n",
       "\n",
       "      applications_actual-expected  \n",
       "1141                        -13240  "
      ]
     },
     "execution_count": 37,
     "metadata": {},
     "output_type": "execute_result"
    }
   ],
   "source": [
    "df_wo_nans[df_wo_nans['applications_actual-expected'] == df_wo_nans['applications_actual-expected'].min()][needed_columns]"
   ]
  },
  {
   "cell_type": "code",
   "execution_count": 38,
   "metadata": {},
   "outputs": [],
   "source": [
    "def make_clips(data, name):\n",
    "    return data[name].clip(lower=data[name].quantile(0.01), upper=data[name].quantile(0.99))"
   ]
  },
  {
   "cell_type": "code",
   "execution_count": 39,
   "metadata": {},
   "outputs": [],
   "source": [
    "clipped_actual_minus_expected = make_clips(df_wo_nans, 'applications_actual-expected')"
   ]
  },
  {
   "cell_type": "code",
   "execution_count": 40,
   "metadata": {
    "scrolled": true
   },
   "outputs": [
    {
     "data": {
      "text/plain": [
       "<matplotlib.axes._subplots.AxesSubplot at 0x7fb2a1968978>"
      ]
     },
     "execution_count": 40,
     "metadata": {},
     "output_type": "execute_result"
    },
    {
     "data": {
      "image/png": "[encoded data removed]",
      "text/plain": [
       "<Figure size 1440x720 with 1 Axes>"
      ]
     },
     "metadata": {
      "needs_background": "light"
     },
     "output_type": "display_data"
    }
   ],
   "source": [
    "plt.figure(figsize=(20, 10))\n",
    "clipped_actual_minus_expected.hist(bins=100)"
   ]
  },
  {
   "cell_type": "markdown",
   "metadata": {},
   "source": [
    "## Попробуем заполнить пропуски (осмысленно!):"
   ]
  },
  {
   "cell_type": "code",
   "execution_count": 41,
   "metadata": {},
   "outputs": [
    {
     "data": {
      "text/html": [
       "<div>\n",
       "<style scoped>\n",
       "    .dataframe tbody tr th:only-of-type {\n",
       "        vertical-align: middle;\n",
       "    }\n",
       "\n",
       "    .dataframe tbody tr th {\n",
       "        vertical-align: top;\n",
       "    }\n",
       "\n",
       "    .dataframe thead th {\n",
       "        text-align: right;\n",
       "    }\n",
       "</style>\n",
       "<table border=\"1\" class=\"dataframe\">\n",
       "  <thead>\n",
       "    <tr style=\"text-align: right;\">\n",
       "      <th></th>\n",
       "      <th>Number of NaNs</th>\n",
       "    </tr>\n",
       "  </thead>\n",
       "  <tbody>\n",
       "    <tr>\n",
       "      <th>schengen_state</th>\n",
       "      <td>0</td>\n",
       "    </tr>\n",
       "    <tr>\n",
       "      <th>consulate_country</th>\n",
       "      <td>0</td>\n",
       "    </tr>\n",
       "    <tr>\n",
       "      <th>consulate_city</th>\n",
       "      <td>0</td>\n",
       "    </tr>\n",
       "    <tr>\n",
       "      <th>num_applications</th>\n",
       "      <td>0</td>\n",
       "    </tr>\n",
       "    <tr>\n",
       "      <th>year</th>\n",
       "      <td>0</td>\n",
       "    </tr>\n",
       "    <tr>\n",
       "      <th>uniform_visas_issued</th>\n",
       "      <td>78</td>\n",
       "    </tr>\n",
       "    <tr>\n",
       "      <th>MEVs_issued</th>\n",
       "      <td>270</td>\n",
       "    </tr>\n",
       "    <tr>\n",
       "      <th>MEVs_share</th>\n",
       "      <td>272</td>\n",
       "    </tr>\n",
       "    <tr>\n",
       "      <th>uniform_rejected</th>\n",
       "      <td>725</td>\n",
       "    </tr>\n",
       "    <tr>\n",
       "      <th>rejection_rate</th>\n",
       "      <td>725</td>\n",
       "    </tr>\n",
       "    <tr>\n",
       "      <th>LTVs_issued</th>\n",
       "      <td>1676</td>\n",
       "    </tr>\n",
       "  </tbody>\n",
       "</table>\n",
       "</div>"
      ],
      "text/plain": [
       "                      Number of NaNs\n",
       "schengen_state                     0\n",
       "consulate_country                  0\n",
       "consulate_city                     0\n",
       "num_applications                   0\n",
       "year                               0\n",
       "uniform_visas_issued              78\n",
       "MEVs_issued                      270\n",
       "MEVs_share                       272\n",
       "uniform_rejected                 725\n",
       "rejection_rate                   725\n",
       "LTVs_issued                     1676"
      ]
     },
     "execution_count": 41,
     "metadata": {},
     "output_type": "execute_result"
    }
   ],
   "source": [
    "# красивая табличка для презентации\n",
    "df_is_null = pd.DataFrame(index=df.columns)\n",
    "df_is_null['Number of NaNs'] = df.isnull().sum().values\n",
    "df_is_null = df_is_null.sort_values(by='Number of NaNs')\n",
    "df_is_null"
   ]
  },
  {
   "cell_type": "code",
   "execution_count": 42,
   "metadata": {},
   "outputs": [],
   "source": [
    "df.loc[df.num_applications == df.uniform_visas_issued, 'uniform_rejected'] = 0\n",
    "df.loc[df.num_applications == df.uniform_visas_issued, 'LTVs_issued'] = 0\n",
    "df.loc[df.num_applications == df.uniform_visas_issued, 'rejection_rate'] = '0%'"
   ]
  },
  {
   "cell_type": "code",
   "execution_count": 43,
   "metadata": {},
   "outputs": [
    {
     "data": {
      "text/plain": [
       "schengen_state             0\n",
       "consulate_country          0\n",
       "consulate_city             0\n",
       "num_applications           0\n",
       "uniform_visas_issued      78\n",
       "MEVs_issued              270\n",
       "MEVs_share               272\n",
       "LTVs_issued             1278\n",
       "uniform_rejected         325\n",
       "rejection_rate           325\n",
       "year                       0\n",
       "dtype: int64"
      ]
     },
     "execution_count": 43,
     "metadata": {},
     "output_type": "execute_result"
    }
   ],
   "source": [
    "df.isnull().sum()"
   ]
  },
  {
   "cell_type": "code",
   "execution_count": 44,
   "metadata": {},
   "outputs": [],
   "source": [
    "columns = ['uniform_visas_issued', 'LTVs_issued', 'uniform_rejected']\n",
    "for col_1 in columns:\n",
    "    for col_2 in columns:\n",
    "        if col_1 != col_2:\n",
    "            mask = (df[col_1] + df[col_2] == df['num_applications'])\n",
    "            col_3 = [col for col in columns if col != col_1 and col != col_2][0]\n",
    "            df.loc[mask & df[col_3].isnull(), col_3] = 0"
   ]
  },
  {
   "cell_type": "code",
   "execution_count": 45,
   "metadata": {},
   "outputs": [],
   "source": [
    "df.loc[df.uniform_rejected == 0, 'rejection_rate'] = '0%'"
   ]
  },
  {
   "cell_type": "code",
   "execution_count": 46,
   "metadata": {},
   "outputs": [
    {
     "data": {
      "text/plain": [
       "schengen_state            0\n",
       "consulate_country         0\n",
       "consulate_city            0\n",
       "num_applications          0\n",
       "uniform_visas_issued     74\n",
       "MEVs_issued             270\n",
       "MEVs_share              272\n",
       "LTVs_issued             643\n",
       "uniform_rejected        218\n",
       "rejection_rate          218\n",
       "year                      0\n",
       "dtype: int64"
      ]
     },
     "execution_count": 46,
     "metadata": {},
     "output_type": "execute_result"
    }
   ],
   "source": [
    "df.isnull().sum()"
   ]
  },
  {
   "cell_type": "code",
   "execution_count": 47,
   "metadata": {},
   "outputs": [
    {
     "data": {
      "text/html": [
       "<div>\n",
       "<style scoped>\n",
       "    .dataframe tbody tr th:only-of-type {\n",
       "        vertical-align: middle;\n",
       "    }\n",
       "\n",
       "    .dataframe tbody tr th {\n",
       "        vertical-align: top;\n",
       "    }\n",
       "\n",
       "    .dataframe thead th {\n",
       "        text-align: right;\n",
       "    }\n",
       "</style>\n",
       "<table border=\"1\" class=\"dataframe\">\n",
       "  <thead>\n",
       "    <tr style=\"text-align: right;\">\n",
       "      <th></th>\n",
       "      <th>Number of NaNs</th>\n",
       "    </tr>\n",
       "  </thead>\n",
       "  <tbody>\n",
       "    <tr>\n",
       "      <th>schengen_state</th>\n",
       "      <td>0</td>\n",
       "    </tr>\n",
       "    <tr>\n",
       "      <th>consulate_country</th>\n",
       "      <td>0</td>\n",
       "    </tr>\n",
       "    <tr>\n",
       "      <th>consulate_city</th>\n",
       "      <td>0</td>\n",
       "    </tr>\n",
       "    <tr>\n",
       "      <th>num_applications</th>\n",
       "      <td>0</td>\n",
       "    </tr>\n",
       "    <tr>\n",
       "      <th>year</th>\n",
       "      <td>0</td>\n",
       "    </tr>\n",
       "    <tr>\n",
       "      <th>uniform_visas_issued</th>\n",
       "      <td>74</td>\n",
       "    </tr>\n",
       "    <tr>\n",
       "      <th>uniform_rejected</th>\n",
       "      <td>218</td>\n",
       "    </tr>\n",
       "    <tr>\n",
       "      <th>rejection_rate</th>\n",
       "      <td>218</td>\n",
       "    </tr>\n",
       "    <tr>\n",
       "      <th>MEVs_issued</th>\n",
       "      <td>270</td>\n",
       "    </tr>\n",
       "    <tr>\n",
       "      <th>MEVs_share</th>\n",
       "      <td>272</td>\n",
       "    </tr>\n",
       "    <tr>\n",
       "      <th>LTVs_issued</th>\n",
       "      <td>643</td>\n",
       "    </tr>\n",
       "  </tbody>\n",
       "</table>\n",
       "</div>"
      ],
      "text/plain": [
       "                      Number of NaNs\n",
       "schengen_state                     0\n",
       "consulate_country                  0\n",
       "consulate_city                     0\n",
       "num_applications                   0\n",
       "year                               0\n",
       "uniform_visas_issued              74\n",
       "uniform_rejected                 218\n",
       "rejection_rate                   218\n",
       "MEVs_issued                      270\n",
       "MEVs_share                       272\n",
       "LTVs_issued                      643"
      ]
     },
     "execution_count": 47,
     "metadata": {},
     "output_type": "execute_result"
    }
   ],
   "source": [
    "# красивая табличка для презентации\n",
    "df_is_null_new = pd.DataFrame(index=df.columns)\n",
    "df_is_null_new['Number of NaNs'] = df.isnull().sum().values\n",
    "df_is_null_new = df_is_null_new.sort_values(by='Number of NaNs')\n",
    "df_is_null_new"
   ]
  },
  {
   "cell_type": "code",
   "execution_count": 48,
   "metadata": {},
   "outputs": [
    {
     "data": {
      "image/png": "[encoded data removed]",
      "text/plain": [
       "<Figure size 720x720 with 1 Axes>"
      ]
     },
     "metadata": {
      "needs_background": "light"
     },
     "output_type": "display_data"
    }
   ],
   "source": [
    "plt.figure(figsize=(10,10))\n",
    "plt.gca().yaxis.grid(True)\n",
    "plt.bar(df_is_null[df_is_null['Number of NaNs']>0].index, df_is_null.loc[df_is_null['Number of NaNs']>0, 'Number of NaNs'], width=0.5, color='darkblue', label='Before')\n",
    "plt.bar(df_is_null_new[df_is_null_new['Number of NaNs']>0].index, df_is_null_new.loc[df_is_null_new['Number of NaNs']>0, 'Number of NaNs'], width=0.3, color='lightcoral', label='After')\n",
    "plt.title('Количество пропусков до и после')\n",
    "plt.xticks(rotation=0, fontsize=10)\n",
    "plt.yticks(rotation=0, fontsize=15)\n",
    "plt.legend(loc=2, prop={'size': 20})\n",
    "#plt.savefig(os.path.join(PATH_TO_SAVE, 'misses_before_after.png'), quality=100, format='png', dpi=500)\n",
    "plt.show()"
   ]
  },
  {
   "cell_type": "markdown",
   "metadata": {},
   "source": [
    "## Топ стран по отношению количества одобренных виз к количеству заявок по всем консульствам"
   ]
  },
  {
   "cell_type": "code",
   "execution_count": 49,
   "metadata": {},
   "outputs": [],
   "source": [
    "df['uniform_acceptance_rate'] = df['uniform_visas_issued'] / df['num_applications']"
   ]
  },
  {
   "cell_type": "code",
   "execution_count": 50,
   "metadata": {},
   "outputs": [],
   "source": [
    "df_acceptance_rate = df[~df['uniform_acceptance_rate'].isnull()]\n",
    "#df_acceptance_rate['uniform_acceptance_rate'] = df_acceptance_rate['uniform_acceptance_rate'].astype(float)"
   ]
  },
  {
   "cell_type": "code",
   "execution_count": 51,
   "metadata": {},
   "outputs": [
    {
     "name": "stderr",
     "output_type": "stream",
     "text": [
      "/home/mamat/anaconda3/envs/myenv/lib/python3.7/site-packages/ipykernel_launcher.py:1: SettingWithCopyWarning: \n",
      "A value is trying to be set on a copy of a slice from a DataFrame.\n",
      "Try using .loc[row_indexer,col_indexer] = value instead\n",
      "\n",
      "See the caveats in the documentation: http://pandas.pydata.org/pandas-docs/stable/indexing.html#indexing-view-versus-copy\n",
      "  \"\"\"Entry point for launching an IPython kernel.\n"
     ]
    }
   ],
   "source": [
    "df_acceptance_rate['uniform_acceptance_rate'] = df_acceptance_rate['uniform_acceptance_rate'].astype(float)"
   ]
  },
  {
   "cell_type": "code",
   "execution_count": 52,
   "metadata": {},
   "outputs": [],
   "source": [
    "df_acceptance_rate_mean = df_acceptance_rate.groupby(['schengen_state']).median()['uniform_acceptance_rate'].sort_values()"
   ]
  },
  {
   "cell_type": "code",
   "execution_count": 53,
   "metadata": {},
   "outputs": [
    {
     "data": {
      "image/png": "[encoded data removed]",
      "text/plain": [
       "<Figure size 720x576 with 1 Axes>"
      ]
     },
     "metadata": {
      "needs_background": "light"
     },
     "output_type": "display_data"
    }
   ],
   "source": [
    "plt.figure(figsize=(10,8))\n",
    "plt.barh(df_acceptance_rate_mean.index, df_acceptance_rate_mean.values)\n",
    "plt.xlabel('Отношение количества одобренных виз к количеству заявок', fontsize=20)\n",
    "plt.axis('tight')\n",
    "plt.xlim([0.5, 1])\n",
    "plt.xticks(rotation=0, fontsize=15)\n",
    "plt.yticks(rotation=0, fontsize=15)\n",
    "plt.gca().xaxis.grid(True)\n",
    "plt.tight_layout()\n",
    "#plt.savefig(os.path.join(PATH_TO_SAVE, 'amount_per_country_russia.png'), quality=100, format='png', dpi=500)\n",
    "plt.show()"
   ]
  },
  {
   "cell_type": "code",
   "execution_count": 54,
   "metadata": {},
   "outputs": [],
   "source": [
    "df.loc[~df['rejection_rate'].isnull(), 'rejection_rate'] = pd.Series(list(map(lambda x: x.replace('%', ''), df[~df['rejection_rate'].isnull()].rejection_rate))).astype(float).values"
   ]
  },
  {
   "cell_type": "code",
   "execution_count": 55,
   "metadata": {},
   "outputs": [],
   "source": [
    "df_rejection = df[~df['rejection_rate'].isnull()]"
   ]
  },
  {
   "cell_type": "code",
   "execution_count": 56,
   "metadata": {},
   "outputs": [
    {
     "name": "stderr",
     "output_type": "stream",
     "text": [
      "/home/mamat/anaconda3/envs/myenv/lib/python3.7/site-packages/ipykernel_launcher.py:1: SettingWithCopyWarning: \n",
      "A value is trying to be set on a copy of a slice from a DataFrame.\n",
      "Try using .loc[row_indexer,col_indexer] = value instead\n",
      "\n",
      "See the caveats in the documentation: http://pandas.pydata.org/pandas-docs/stable/indexing.html#indexing-view-versus-copy\n",
      "  \"\"\"Entry point for launching an IPython kernel.\n"
     ]
    }
   ],
   "source": [
    "df_rejection['rejection_rate'] = df_rejection['rejection_rate'].astype(float)"
   ]
  },
  {
   "cell_type": "code",
   "execution_count": 57,
   "metadata": {
    "scrolled": true
   },
   "outputs": [],
   "source": [
    "df_rejection_rate = (df_rejection.groupby('schengen_state').mean().rejection_rate / 100).sort_values()"
   ]
  },
  {
   "cell_type": "code",
   "execution_count": 58,
   "metadata": {},
   "outputs": [
    {
     "name": "stderr",
     "output_type": "stream",
     "text": [
      "/home/mamat/anaconda3/envs/myenv/lib/python3.7/site-packages/ipykernel_launcher.py:1: UserWarning: Boolean Series key will be reindexed to match DataFrame index.\n",
      "  \"\"\"Entry point for launching an IPython kernel.\n"
     ]
    }
   ],
   "source": [
    "df_rejection_russia = df_rejection[df.consulate_country == 'RUSSIAN FEDERATION']"
   ]
  },
  {
   "cell_type": "code",
   "execution_count": 59,
   "metadata": {},
   "outputs": [],
   "source": [
    "df_rejection_rate_russia = (df_rejection_russia.groupby('schengen_state').mean().rejection_rate / 100).sort_values()"
   ]
  },
  {
   "cell_type": "code",
   "execution_count": 93,
   "metadata": {},
   "outputs": [
    {
     "data": {
      "image/png": "[encoded data removed]",
      "text/plain": [
       "<Figure size 720x576 with 1 Axes>"
      ]
     },
     "metadata": {
      "needs_background": "light"
     },
     "output_type": "display_data"
    }
   ],
   "source": [
    "plt.figure(figsize=(10,8))\n",
    "plt.barh(df_rejection_rate.index, df_rejection_rate.values, label='World')\n",
    "plt.barh(df_rejection_rate_russia.index, df_rejection_rate_russia.values, height=0.6, label='Russia')\n",
    "plt.xlabel('Mean rejection rate by schengen state', fontsize=20)\n",
    "plt.axis('tight')\n",
    "plt.xlim([0.0, 0.2])\n",
    "plt.xticks(rotation=0, fontsize=15)\n",
    "plt.yticks(rotation=0, fontsize=15)\n",
    "plt.gca().xaxis.grid(True)\n",
    "plt.tight_layout()\n",
    "plt.legend(prop={'size': 20})\n",
    "#plt.savefig(os.path.join(PATH_TO_SAVE, 'rejection_rate.png'), quality=100, format='png', dpi=500)\n",
    "plt.show()"
   ]
  },
  {
   "cell_type": "code",
   "execution_count": 94,
   "metadata": {},
   "outputs": [],
   "source": [
    "thresh = 1000\n",
    "df_rejection_rate_country = (df_rejection.groupby(['consulate_country']).mean()).sort_values(by='rejection_rate')\n",
    "df_rejection_rate_country = df_rejection_rate_country[df_rejection_rate_country.num_applications > thresh]"
   ]
  },
  {
   "cell_type": "code",
   "execution_count": 99,
   "metadata": {},
   "outputs": [
    {
     "data": {
      "image/png": "[encoded data removed]",
      "text/plain": [
       "<Figure size 720x576 with 1 Axes>"
      ]
     },
     "metadata": {
      "needs_background": "light"
     },
     "output_type": "display_data"
    }
   ],
   "source": [
    "plt.figure(figsize=(10,8))\n",
    "plt.barh(df_rejection_rate_country.index[-20:], df_rejection_rate_country.rejection_rate.values[-20:] / 100, color='darkblue')\n",
    "plt.xlabel('Mean rejection rate by country', fontsize=20)\n",
    "plt.axis('tight')\n",
    "plt.xticks(rotation=0, fontsize=15)\n",
    "plt.yticks(rotation=0, fontsize=15)\n",
    "plt.gca().xaxis.grid(True)\n",
    "plt.tight_layout()\n",
    "plt.savefig(os.path.join(PATH_TO_SAVE, 'rejection_rate_country.png'), quality=100, format='png', dpi=500)\n",
    "plt.show()"
   ]
  },
  {
   "cell_type": "code",
   "execution_count": null,
   "metadata": {},
   "outputs": [],
   "source": []
  },
  {
   "cell_type": "code",
   "execution_count": 80,
   "metadata": {},
   "outputs": [],
   "source": [
    "thresh = 1000\n",
    "df_rejection_rate_city = (df_rejection.groupby(['consulate_city']).mean()).sort_values(by='rejection_rate')\n",
    "df_rejection_rate_city = df_rejection_rate_city[df_rejection_rate_city.num_applications > thresh]"
   ]
  },
  {
   "cell_type": "code",
   "execution_count": 81,
   "metadata": {
    "scrolled": true
   },
   "outputs": [
    {
     "data": {
      "text/html": [
       "<div>\n",
       "<style scoped>\n",
       "    .dataframe tbody tr th:only-of-type {\n",
       "        vertical-align: middle;\n",
       "    }\n",
       "\n",
       "    .dataframe tbody tr th {\n",
       "        vertical-align: top;\n",
       "    }\n",
       "\n",
       "    .dataframe thead th {\n",
       "        text-align: right;\n",
       "    }\n",
       "</style>\n",
       "<table border=\"1\" class=\"dataframe\">\n",
       "  <thead>\n",
       "    <tr style=\"text-align: right;\">\n",
       "      <th></th>\n",
       "      <th>num_applications</th>\n",
       "      <th>rejection_rate</th>\n",
       "      <th>year</th>\n",
       "    </tr>\n",
       "    <tr>\n",
       "      <th>consulate_city</th>\n",
       "      <th></th>\n",
       "      <th></th>\n",
       "      <th></th>\n",
       "    </tr>\n",
       "  </thead>\n",
       "  <tbody>\n",
       "    <tr>\n",
       "      <th>SOVETSK</th>\n",
       "      <td>12857.000000</td>\n",
       "      <td>0.150000</td>\n",
       "      <td>2017.500000</td>\n",
       "    </tr>\n",
       "    <tr>\n",
       "      <th>GRODNO</th>\n",
       "      <td>49191.000000</td>\n",
       "      <td>0.225000</td>\n",
       "      <td>2017.500000</td>\n",
       "    </tr>\n",
       "    <tr>\n",
       "      <th>KAZAN</th>\n",
       "      <td>3307.500000</td>\n",
       "      <td>0.250000</td>\n",
       "      <td>2017.500000</td>\n",
       "    </tr>\n",
       "    <tr>\n",
       "      <th>PSKOV</th>\n",
       "      <td>10092.750000</td>\n",
       "      <td>0.250000</td>\n",
       "      <td>2017.500000</td>\n",
       "    </tr>\n",
       "    <tr>\n",
       "      <th>BREST</th>\n",
       "      <td>80357.500000</td>\n",
       "      <td>0.250000</td>\n",
       "      <td>2017.500000</td>\n",
       "    </tr>\n",
       "    <tr>\n",
       "      <th>PHILADELPHIA, PA</th>\n",
       "      <td>1355.500000</td>\n",
       "      <td>0.400000</td>\n",
       "      <td>2017.500000</td>\n",
       "    </tr>\n",
       "    <tr>\n",
       "      <th>BOSTON, MA</th>\n",
       "      <td>1176.200000</td>\n",
       "      <td>0.450000</td>\n",
       "      <td>2017.500000</td>\n",
       "    </tr>\n",
       "    <tr>\n",
       "      <th>PETROZAVODSK</th>\n",
       "      <td>36735.500000</td>\n",
       "      <td>0.450000</td>\n",
       "      <td>2017.500000</td>\n",
       "    </tr>\n",
       "    <tr>\n",
       "      <th>MINSK</th>\n",
       "      <td>49449.050000</td>\n",
       "      <td>0.500000</td>\n",
       "      <td>2017.500000</td>\n",
       "    </tr>\n",
       "    <tr>\n",
       "      <th>IRKUTSK</th>\n",
       "      <td>2670.500000</td>\n",
       "      <td>0.550000</td>\n",
       "      <td>2017.500000</td>\n",
       "    </tr>\n",
       "    <tr>\n",
       "      <th>GABORONE</th>\n",
       "      <td>1631.500000</td>\n",
       "      <td>0.550000</td>\n",
       "      <td>2017.500000</td>\n",
       "    </tr>\n",
       "    <tr>\n",
       "      <th>VITSYEBSK</th>\n",
       "      <td>25039.500000</td>\n",
       "      <td>0.550000</td>\n",
       "      <td>2017.500000</td>\n",
       "    </tr>\n",
       "    <tr>\n",
       "      <th>DETROIT, MI</th>\n",
       "      <td>1027.500000</td>\n",
       "      <td>0.750000</td>\n",
       "      <td>2017.500000</td>\n",
       "    </tr>\n",
       "    <tr>\n",
       "      <th>CHICAGO, IL</th>\n",
       "      <td>1178.500000</td>\n",
       "      <td>0.755556</td>\n",
       "      <td>2017.555556</td>\n",
       "    </tr>\n",
       "    <tr>\n",
       "      <th>SAN FRANCISCO, CA</th>\n",
       "      <td>2153.352941</td>\n",
       "      <td>0.776471</td>\n",
       "      <td>2017.470588</td>\n",
       "    </tr>\n",
       "    <tr>\n",
       "      <th>KALININGRAD</th>\n",
       "      <td>35688.250000</td>\n",
       "      <td>0.875000</td>\n",
       "      <td>2017.500000</td>\n",
       "    </tr>\n",
       "    <tr>\n",
       "      <th>EDIRNE</th>\n",
       "      <td>23517.500000</td>\n",
       "      <td>1.000000</td>\n",
       "      <td>2017.500000</td>\n",
       "    </tr>\n",
       "    <tr>\n",
       "      <th>ST. PETERSBURG</th>\n",
       "      <td>58993.888889</td>\n",
       "      <td>1.137037</td>\n",
       "      <td>2017.481481</td>\n",
       "    </tr>\n",
       "    <tr>\n",
       "      <th>HONG KONG</th>\n",
       "      <td>1238.708333</td>\n",
       "      <td>1.191667</td>\n",
       "      <td>2017.500000</td>\n",
       "    </tr>\n",
       "    <tr>\n",
       "      <th>MANCHESTER</th>\n",
       "      <td>1714.250000</td>\n",
       "      <td>1.325000</td>\n",
       "      <td>2017.500000</td>\n",
       "    </tr>\n",
       "    <tr>\n",
       "      <th>ASHGABAT</th>\n",
       "      <td>2137.400000</td>\n",
       "      <td>1.340000</td>\n",
       "      <td>2017.400000</td>\n",
       "    </tr>\n",
       "    <tr>\n",
       "      <th>UZHHOROD</th>\n",
       "      <td>9206.250000</td>\n",
       "      <td>1.350000</td>\n",
       "      <td>2017.500000</td>\n",
       "    </tr>\n",
       "    <tr>\n",
       "      <th>JAKARTA</th>\n",
       "      <td>11690.514286</td>\n",
       "      <td>1.477143</td>\n",
       "      <td>2017.514286</td>\n",
       "    </tr>\n",
       "    <tr>\n",
       "      <th>YEKATERINBURG</th>\n",
       "      <td>16188.375000</td>\n",
       "      <td>1.537500</td>\n",
       "      <td>2017.500000</td>\n",
       "    </tr>\n",
       "    <tr>\n",
       "      <th>HOUSTON, TX</th>\n",
       "      <td>1184.583333</td>\n",
       "      <td>1.625000</td>\n",
       "      <td>2017.583333</td>\n",
       "    </tr>\n",
       "    <tr>\n",
       "      <th>CHENGDU</th>\n",
       "      <td>23619.400000</td>\n",
       "      <td>1.690000</td>\n",
       "      <td>2017.500000</td>\n",
       "    </tr>\n",
       "    <tr>\n",
       "      <th>NOVOROSSIISK</th>\n",
       "      <td>28063.000000</td>\n",
       "      <td>1.700000</td>\n",
       "      <td>2017.500000</td>\n",
       "    </tr>\n",
       "    <tr>\n",
       "      <th>SINGAPORE</th>\n",
       "      <td>3033.619048</td>\n",
       "      <td>1.704762</td>\n",
       "      <td>2017.523810</td>\n",
       "    </tr>\n",
       "    <tr>\n",
       "      <th>MOSCOW</th>\n",
       "      <td>104650.140000</td>\n",
       "      <td>1.882000</td>\n",
       "      <td>2017.500000</td>\n",
       "    </tr>\n",
       "    <tr>\n",
       "      <th>WINDHOEK</th>\n",
       "      <td>2165.000000</td>\n",
       "      <td>2.066667</td>\n",
       "      <td>2017.500000</td>\n",
       "    </tr>\n",
       "    <tr>\n",
       "      <th>...</th>\n",
       "      <td>...</td>\n",
       "      <td>...</td>\n",
       "      <td>...</td>\n",
       "    </tr>\n",
       "    <tr>\n",
       "      <th>KHARTOUM</th>\n",
       "      <td>1556.214286</td>\n",
       "      <td>26.528571</td>\n",
       "      <td>2017.500000</td>\n",
       "    </tr>\n",
       "    <tr>\n",
       "      <th>KATHMANDU</th>\n",
       "      <td>2412.000000</td>\n",
       "      <td>26.577778</td>\n",
       "      <td>2017.444444</td>\n",
       "    </tr>\n",
       "    <tr>\n",
       "      <th>SANTO DOMINGO</th>\n",
       "      <td>8197.300000</td>\n",
       "      <td>26.600000</td>\n",
       "      <td>2017.500000</td>\n",
       "    </tr>\n",
       "    <tr>\n",
       "      <th>CASABLANCA</th>\n",
       "      <td>34953.727273</td>\n",
       "      <td>28.000000</td>\n",
       "      <td>2017.545455</td>\n",
       "    </tr>\n",
       "    <tr>\n",
       "      <th>PORT AU PRINCE</th>\n",
       "      <td>4153.500000</td>\n",
       "      <td>29.575000</td>\n",
       "      <td>2017.500000</td>\n",
       "    </tr>\n",
       "    <tr>\n",
       "      <th>DJIBOUTI</th>\n",
       "      <td>3359.000000</td>\n",
       "      <td>30.000000</td>\n",
       "      <td>2017.500000</td>\n",
       "    </tr>\n",
       "    <tr>\n",
       "      <th>DOUALA</th>\n",
       "      <td>8775.500000</td>\n",
       "      <td>30.150000</td>\n",
       "      <td>2017.500000</td>\n",
       "    </tr>\n",
       "    <tr>\n",
       "      <th>KINSHASA</th>\n",
       "      <td>2413.500000</td>\n",
       "      <td>30.256250</td>\n",
       "      <td>2017.500000</td>\n",
       "    </tr>\n",
       "    <tr>\n",
       "      <th>BAMAKO</th>\n",
       "      <td>4127.900000</td>\n",
       "      <td>31.350000</td>\n",
       "      <td>2017.500000</td>\n",
       "    </tr>\n",
       "    <tr>\n",
       "      <th>POINTE NOIRE</th>\n",
       "      <td>5398.500000</td>\n",
       "      <td>31.950000</td>\n",
       "      <td>2017.500000</td>\n",
       "    </tr>\n",
       "    <tr>\n",
       "      <th>CIDADE DA PRAIA</th>\n",
       "      <td>9623.000000</td>\n",
       "      <td>32.000000</td>\n",
       "      <td>2017.500000</td>\n",
       "    </tr>\n",
       "    <tr>\n",
       "      <th>ABIDJAN</th>\n",
       "      <td>11391.000000</td>\n",
       "      <td>32.400000</td>\n",
       "      <td>2017.500000</td>\n",
       "    </tr>\n",
       "    <tr>\n",
       "      <th>BRAZZAVILLE</th>\n",
       "      <td>4699.500000</td>\n",
       "      <td>34.825000</td>\n",
       "      <td>2017.500000</td>\n",
       "    </tr>\n",
       "    <tr>\n",
       "      <th>NADOR</th>\n",
       "      <td>20780.250000</td>\n",
       "      <td>35.050000</td>\n",
       "      <td>2017.500000</td>\n",
       "    </tr>\n",
       "    <tr>\n",
       "      <th>YAONDE</th>\n",
       "      <td>4683.666667</td>\n",
       "      <td>35.558333</td>\n",
       "      <td>2017.500000</td>\n",
       "    </tr>\n",
       "    <tr>\n",
       "      <th>LUANDA</th>\n",
       "      <td>10917.421053</td>\n",
       "      <td>36.478947</td>\n",
       "      <td>2017.526316</td>\n",
       "    </tr>\n",
       "    <tr>\n",
       "      <th>MORONI</th>\n",
       "      <td>2881.500000</td>\n",
       "      <td>36.650000</td>\n",
       "      <td>2017.500000</td>\n",
       "    </tr>\n",
       "    <tr>\n",
       "      <th>ANNABA</th>\n",
       "      <td>132389.500000</td>\n",
       "      <td>37.700000</td>\n",
       "      <td>2017.500000</td>\n",
       "    </tr>\n",
       "    <tr>\n",
       "      <th>ORAN</th>\n",
       "      <td>95335.000000</td>\n",
       "      <td>38.950000</td>\n",
       "      <td>2017.500000</td>\n",
       "    </tr>\n",
       "    <tr>\n",
       "      <th>BANGUI</th>\n",
       "      <td>4198.000000</td>\n",
       "      <td>39.400000</td>\n",
       "      <td>2017.500000</td>\n",
       "    </tr>\n",
       "    <tr>\n",
       "      <th>TRIPOLI</th>\n",
       "      <td>6591.333333</td>\n",
       "      <td>39.433333</td>\n",
       "      <td>2017.666667</td>\n",
       "    </tr>\n",
       "    <tr>\n",
       "      <th>ISLAMABAD</th>\n",
       "      <td>3991.437500</td>\n",
       "      <td>41.562500</td>\n",
       "      <td>2017.500000</td>\n",
       "    </tr>\n",
       "    <tr>\n",
       "      <th>ACCRA</th>\n",
       "      <td>4430.117647</td>\n",
       "      <td>43.558824</td>\n",
       "      <td>2017.529412</td>\n",
       "    </tr>\n",
       "    <tr>\n",
       "      <th>DAKAR</th>\n",
       "      <td>7129.800000</td>\n",
       "      <td>43.750000</td>\n",
       "      <td>2017.550000</td>\n",
       "    </tr>\n",
       "    <tr>\n",
       "      <th>ABUJA</th>\n",
       "      <td>2225.066667</td>\n",
       "      <td>43.983333</td>\n",
       "      <td>2017.500000</td>\n",
       "    </tr>\n",
       "    <tr>\n",
       "      <th>ASMARA</th>\n",
       "      <td>2243.000000</td>\n",
       "      <td>44.200000</td>\n",
       "      <td>2017.500000</td>\n",
       "    </tr>\n",
       "    <tr>\n",
       "      <th>ALGIERS</th>\n",
       "      <td>26445.875000</td>\n",
       "      <td>46.103125</td>\n",
       "      <td>2017.500000</td>\n",
       "    </tr>\n",
       "    <tr>\n",
       "      <th>ERBIL</th>\n",
       "      <td>6254.428571</td>\n",
       "      <td>46.400000</td>\n",
       "      <td>2017.500000</td>\n",
       "    </tr>\n",
       "    <tr>\n",
       "      <th>CONAKRY</th>\n",
       "      <td>4486.500000</td>\n",
       "      <td>49.550000</td>\n",
       "      <td>2017.500000</td>\n",
       "    </tr>\n",
       "    <tr>\n",
       "      <th>LAGOS</th>\n",
       "      <td>13151.625000</td>\n",
       "      <td>53.475000</td>\n",
       "      <td>2017.500000</td>\n",
       "    </tr>\n",
       "  </tbody>\n",
       "</table>\n",
       "<p>173 rows × 3 columns</p>\n",
       "</div>"
      ],
      "text/plain": [
       "                   num_applications  rejection_rate         year\n",
       "consulate_city                                                  \n",
       "SOVETSK                12857.000000        0.150000  2017.500000\n",
       "GRODNO                 49191.000000        0.225000  2017.500000\n",
       "KAZAN                   3307.500000        0.250000  2017.500000\n",
       "PSKOV                  10092.750000        0.250000  2017.500000\n",
       "BREST                  80357.500000        0.250000  2017.500000\n",
       "PHILADELPHIA, PA        1355.500000        0.400000  2017.500000\n",
       "BOSTON, MA              1176.200000        0.450000  2017.500000\n",
       "PETROZAVODSK           36735.500000        0.450000  2017.500000\n",
       "MINSK                  49449.050000        0.500000  2017.500000\n",
       "IRKUTSK                 2670.500000        0.550000  2017.500000\n",
       "GABORONE                1631.500000        0.550000  2017.500000\n",
       "VITSYEBSK              25039.500000        0.550000  2017.500000\n",
       "DETROIT, MI             1027.500000        0.750000  2017.500000\n",
       "CHICAGO, IL             1178.500000        0.755556  2017.555556\n",
       "SAN FRANCISCO, CA       2153.352941        0.776471  2017.470588\n",
       "KALININGRAD            35688.250000        0.875000  2017.500000\n",
       "EDIRNE                 23517.500000        1.000000  2017.500000\n",
       "ST. PETERSBURG         58993.888889        1.137037  2017.481481\n",
       "HONG KONG               1238.708333        1.191667  2017.500000\n",
       "MANCHESTER              1714.250000        1.325000  2017.500000\n",
       "ASHGABAT                2137.400000        1.340000  2017.400000\n",
       "UZHHOROD                9206.250000        1.350000  2017.500000\n",
       "JAKARTA                11690.514286        1.477143  2017.514286\n",
       "YEKATERINBURG          16188.375000        1.537500  2017.500000\n",
       "HOUSTON, TX             1184.583333        1.625000  2017.583333\n",
       "CHENGDU                23619.400000        1.690000  2017.500000\n",
       "NOVOROSSIISK           28063.000000        1.700000  2017.500000\n",
       "SINGAPORE               3033.619048        1.704762  2017.523810\n",
       "MOSCOW                104650.140000        1.882000  2017.500000\n",
       "WINDHOEK                2165.000000        2.066667  2017.500000\n",
       "...                             ...             ...          ...\n",
       "KHARTOUM                1556.214286       26.528571  2017.500000\n",
       "KATHMANDU               2412.000000       26.577778  2017.444444\n",
       "SANTO DOMINGO           8197.300000       26.600000  2017.500000\n",
       "CASABLANCA             34953.727273       28.000000  2017.545455\n",
       "PORT AU PRINCE          4153.500000       29.575000  2017.500000\n",
       "DJIBOUTI                3359.000000       30.000000  2017.500000\n",
       "DOUALA                  8775.500000       30.150000  2017.500000\n",
       "KINSHASA                2413.500000       30.256250  2017.500000\n",
       "BAMAKO                  4127.900000       31.350000  2017.500000\n",
       "POINTE NOIRE            5398.500000       31.950000  2017.500000\n",
       "CIDADE DA PRAIA         9623.000000       32.000000  2017.500000\n",
       "ABIDJAN                11391.000000       32.400000  2017.500000\n",
       "BRAZZAVILLE             4699.500000       34.825000  2017.500000\n",
       "NADOR                  20780.250000       35.050000  2017.500000\n",
       "YAONDE                  4683.666667       35.558333  2017.500000\n",
       "LUANDA                 10917.421053       36.478947  2017.526316\n",
       "MORONI                  2881.500000       36.650000  2017.500000\n",
       "ANNABA                132389.500000       37.700000  2017.500000\n",
       "ORAN                   95335.000000       38.950000  2017.500000\n",
       "BANGUI                  4198.000000       39.400000  2017.500000\n",
       "TRIPOLI                 6591.333333       39.433333  2017.666667\n",
       "ISLAMABAD               3991.437500       41.562500  2017.500000\n",
       "ACCRA                   4430.117647       43.558824  2017.529412\n",
       "DAKAR                   7129.800000       43.750000  2017.550000\n",
       "ABUJA                   2225.066667       43.983333  2017.500000\n",
       "ASMARA                  2243.000000       44.200000  2017.500000\n",
       "ALGIERS                26445.875000       46.103125  2017.500000\n",
       "ERBIL                   6254.428571       46.400000  2017.500000\n",
       "CONAKRY                 4486.500000       49.550000  2017.500000\n",
       "LAGOS                  13151.625000       53.475000  2017.500000\n",
       "\n",
       "[173 rows x 3 columns]"
      ]
     },
     "execution_count": 81,
     "metadata": {},
     "output_type": "execute_result"
    }
   ],
   "source": [
    "df_rejection_rate_city"
   ]
  },
  {
   "cell_type": "code",
   "execution_count": 91,
   "metadata": {},
   "outputs": [
    {
     "data": {
      "image/png": "[encoded data removed]",
      "text/plain": [
       "<Figure size 720x576 with 1 Axes>"
      ]
     },
     "metadata": {
      "needs_background": "light"
     },
     "output_type": "display_data"
    }
   ],
   "source": [
    "plt.figure(figsize=(10,8))\n",
    "plt.barh(df_rejection_rate_city.index[-20:], df_rejection_rate_city.rejection_rate.values[-20:] / 100, color='darkblue')\n",
    "plt.xlabel('Mean rejection rate by city (num_applications > 1000)', fontsize=20)\n",
    "plt.axis('tight')\n",
    "plt.xticks(rotation=0, fontsize=15)\n",
    "plt.yticks(rotation=0, fontsize=15)\n",
    "plt.gca().xaxis.grid(True)\n",
    "plt.tight_layout()\n",
    "#plt.savefig(os.path.join(PATH_TO_SAVE, 'rejection_rate_city.png'), quality=100, format='png', dpi=500)\n",
    "plt.show()"
   ]
  },
  {
   "cell_type": "code",
   "execution_count": null,
   "metadata": {},
   "outputs": [],
   "source": []
  }
 ],
 "metadata": {
  "kernelspec": {
   "display_name": "Python 3",
   "language": "python",
   "name": "python3"
  },
  "language_info": {
   "codemirror_mode": {
    "name": "ipython",
    "version": 3
   },
   "file_extension": ".py",
   "mimetype": "text/x-python",
   "name": "python",
   "nbconvert_exporter": "python",
   "pygments_lexer": "ipython3",
   "version": "3.7.3"
  }
 },
 "nbformat": 4,
 "nbformat_minor": 2
}
